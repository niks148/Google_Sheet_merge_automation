{
 "cells": [
  {
   "cell_type": "code",
   "execution_count": 1,
   "id": "d1dbc3a5-ac60-49b1-8b2b-545952bbde93",
   "metadata": {},
   "outputs": [
    {
     "name": "stdin",
     "output_type": "stream",
     "text": [
      "Enter the `Credentials.json` file path:\n",
      " \"C:\\Users\\dell\\Downloads\\sheet-automation-425802-c6d3fdcc5826.json\"\n",
      "Enter the source Spreadsheet ID:\n",
      " 1cbkcdBQjGVP-ZlakltvDWlkPWcSO4whiuZZBw8NNPf8\n",
      "Enter the destination Spreadsheet ID:\n",
      " 1Kq3U0XSGNFXeTM5Cu39bGZYGT7bcwjQPdAi5aRJC2Sg\n"
     ]
    },
    {
     "name": "stdout",
     "output_type": "stream",
     "text": [
      "0\n"
     ]
    }
   ],
   "source": [
    "import gspread\n",
    "import pandas as pd\n",
    "\n",
    " # Take input from the end-user\n",
    "path = input(\"Enter the `Credentials.json` file path:\\n\")\n",
    "src_sheet_id = input(\"Enter the source Spreadsheet ID:\\n\")\n",
    "dest_sheet_id = input(\"Enter the destination Spreadsheet ID:\\n\")\n",
    "file_path = path.replace('\"','')\n",
    "\n",
    "# Authorize the service account using credential file\n",
    "gc = gspread.service_account(filename=file_path)\n",
    "\n",
    "# Opening the source and destination file by their ID\n",
    "source_sheet = gc.open_by_key(src_sheet_id)\n",
    "dest_sheet  = gc.open_by_key(dest_sheet_id)\n",
    "\n",
    "# Appending the worksheets into master sheet using pandas\n",
    "sheet_list = []\n",
    "n = source_sheet.worksheets()\n",
    "combined_df = pd.DataFrame()\n",
    "for sheet in n:\n",
    "    curr = pd.DataFrame(source_sheet.worksheet(sheet.title).get_all_records())\n",
    "    combined_df=pd.concat([curr,combined_df])\n",
    "\n",
    "# checking duplicate values in the dataframe\n",
    "print(combined_df.duplicated().sum())\n",
    "\n"
   ]
  },
  {
   "cell_type": "code",
   "execution_count": 2,
   "id": "a6e4518e-b78f-44a8-84bd-d38faef19e3a",
   "metadata": {},
   "outputs": [],
   "source": [
    "# dropping the duplicate value from the dataframe\n",
    "combined_df.drop_duplicates(inplace=True)"
   ]
  },
  {
   "cell_type": "code",
   "execution_count": 3,
   "id": "802653d7-2b27-4658-99e9-b4b65a50675e",
   "metadata": {},
   "outputs": [
    {
     "name": "stdout",
     "output_type": "stream",
     "text": [
      "0\n"
     ]
    }
   ],
   "source": [
    "print(combined_df.duplicated().sum())"
   ]
  },
  {
   "cell_type": "code",
   "execution_count": 4,
   "id": "0fbfc7c0-52a1-4475-9c74-319dc1c9125a",
   "metadata": {},
   "outputs": [
    {
     "data": {
      "text/plain": [
       "(1093, 16)"
      ]
     },
     "execution_count": 4,
     "metadata": {},
     "output_type": "execute_result"
    }
   ],
   "source": [
    "combined_df.shape"
   ]
  },
  {
   "cell_type": "code",
   "execution_count": 5,
   "id": "437eac43-d8eb-41a1-af39-1c39ac38f518",
   "metadata": {},
   "outputs": [
    {
     "name": "stdout",
     "output_type": "stream",
     "text": [
      "          Order ID         Cost        Sales       Profit     Quantity\n",
      "count  1093.000000  1093.000000  1093.000000  1093.000000  1093.000000\n",
      "mean   2244.000000   157.133577   315.569076   158.435499     3.752059\n",
      "std     315.666227   323.496551   525.162963   307.587536     2.192605\n",
      "min    1698.000000     0.000000     5.000000     1.000000     1.000000\n",
      "25%    1971.000000    18.000000    52.000000    19.000000     2.000000\n",
      "50%    2244.000000    53.000000   133.000000    53.000000     3.000000\n",
      "75%    2517.000000   156.000000   339.000000   152.000000     5.000000\n",
      "max    2790.000000  3659.000000  5274.000000  3096.000000    14.000000\n",
      "<class 'pandas.core.frame.DataFrame'>\n",
      "Index: 1093 entries, 0 to 74\n",
      "Data columns (total 16 columns):\n",
      " #   Column         Non-Null Count  Dtype \n",
      "---  ------         --------------  ----- \n",
      " 0   Order ID       1093 non-null   int64 \n",
      " 1   Order Date     1093 non-null   object\n",
      " 2   Customer Name  1093 non-null   object\n",
      " 3   City           1093 non-null   object\n",
      " 4   Country        1093 non-null   object\n",
      " 5   State          1093 non-null   object\n",
      " 6   Region         1093 non-null   object\n",
      " 7   Segment        1093 non-null   object\n",
      " 8   Ship Mode      1093 non-null   object\n",
      " 9   Category       1093 non-null   object\n",
      " 10  Sub-Category   1093 non-null   object\n",
      " 11  Product Name   1093 non-null   object\n",
      " 12  Cost           1093 non-null   int64 \n",
      " 13  Sales          1093 non-null   int64 \n",
      " 14  Profit         1093 non-null   int64 \n",
      " 15  Quantity       1093 non-null   int64 \n",
      "dtypes: int64(5), object(11)\n",
      "memory usage: 145.2+ KB\n",
      "None\n"
     ]
    }
   ],
   "source": [
    "print(combined_df.describe())\n",
    "print(combined_df.info())"
   ]
  },
  {
   "cell_type": "code",
   "execution_count": 6,
   "id": "85beae56-780a-41e5-8b62-c5b5fc93f3de",
   "metadata": {},
   "outputs": [
    {
     "name": "stdout",
     "output_type": "stream",
     "text": [
      "<class 'pandas.core.frame.DataFrame'>\n",
      "Index: 1093 entries, 0 to 74\n",
      "Data columns (total 16 columns):\n",
      " #   Column         Non-Null Count  Dtype \n",
      "---  ------         --------------  ----- \n",
      " 0   Order ID       1093 non-null   int64 \n",
      " 1   Order Date     1093 non-null   object\n",
      " 2   Customer Name  1093 non-null   object\n",
      " 3   City           1093 non-null   object\n",
      " 4   Country        1093 non-null   object\n",
      " 5   State          1093 non-null   object\n",
      " 6   Region         1093 non-null   object\n",
      " 7   Segment        1093 non-null   object\n",
      " 8   Ship Mode      1093 non-null   object\n",
      " 9   Category       1093 non-null   object\n",
      " 10  Sub-Category   1093 non-null   object\n",
      " 11  Product Name   1093 non-null   object\n",
      " 12  Cost           1093 non-null   int64 \n",
      " 13  Sales          1093 non-null   int64 \n",
      " 14  Profit         1093 non-null   int64 \n",
      " 15  Quantity       1093 non-null   int64 \n",
      "dtypes: int64(5), object(11)\n",
      "memory usage: 145.2+ KB\n",
      "None\n"
     ]
    }
   ],
   "source": [
    "print(combined_df.info())"
   ]
  },
  {
   "cell_type": "code",
   "execution_count": 7,
   "id": "4482079a-1d2d-41c9-bd2a-1b0f4feb42d2",
   "metadata": {},
   "outputs": [
    {
     "name": "stdout",
     "output_type": "stream",
     "text": [
      "<class 'pandas.core.frame.DataFrame'>\n",
      "Index: 1093 entries, 0 to 74\n",
      "Data columns (total 16 columns):\n",
      " #   Column         Non-Null Count  Dtype \n",
      "---  ------         --------------  ----- \n",
      " 0   Order ID       1093 non-null   int64 \n",
      " 1   Order Date     1093 non-null   object\n",
      " 2   Customer Name  1093 non-null   object\n",
      " 3   City           1093 non-null   object\n",
      " 4   Country        1093 non-null   object\n",
      " 5   State          1093 non-null   object\n",
      " 6   Region         1093 non-null   object\n",
      " 7   Segment        1093 non-null   object\n",
      " 8   Ship Mode      1093 non-null   object\n",
      " 9   Category       1093 non-null   object\n",
      " 10  Sub-Category   1093 non-null   object\n",
      " 11  Product Name   1093 non-null   object\n",
      " 12  Cost           1093 non-null   int64 \n",
      " 13  Sales          1093 non-null   int64 \n",
      " 14  Profit         1093 non-null   int64 \n",
      " 15  Quantity       1093 non-null   int64 \n",
      "dtypes: int64(5), object(11)\n",
      "memory usage: 145.2+ KB\n"
     ]
    }
   ],
   "source": [
    "combined_df.info()"
   ]
  },
  {
   "cell_type": "code",
   "execution_count": 8,
   "id": "b1382da2-0285-47bb-bffc-105db56f6f49",
   "metadata": {},
   "outputs": [
    {
     "data": {
      "text/plain": [
       "{'spreadsheetId': '1Kq3U0XSGNFXeTM5Cu39bGZYGT7bcwjQPdAi5aRJC2Sg',\n",
       " 'updatedRange': 'master_sheet!A1:P1094',\n",
       " 'updatedRows': 1094,\n",
       " 'updatedColumns': 16,\n",
       " 'updatedCells': 17504}"
      ]
     },
     "execution_count": 8,
     "metadata": {},
     "output_type": "execute_result"
    }
   ],
   "source": [
    "# Updating the master Spreadsheet if any changes occur in source worksheet\n",
    "worksheet = dest_sheet.worksheet('master_sheet')\n",
    "worksheet.update([combined_df.columns.values.tolist()] + combined_df.values.tolist())"
   ]
  },
  {
   "cell_type": "code",
   "execution_count": null,
   "id": "a103a604-eb96-4f2b-a861-1b1ff526a62f",
   "metadata": {},
   "outputs": [],
   "source": []
  }
 ],
 "metadata": {
  "kernelspec": {
   "display_name": "Python 3 (ipykernel)",
   "language": "python",
   "name": "python3"
  },
  "language_info": {
   "codemirror_mode": {
    "name": "ipython",
    "version": 3
   },
   "file_extension": ".py",
   "mimetype": "text/x-python",
   "name": "python",
   "nbconvert_exporter": "python",
   "pygments_lexer": "ipython3",
   "version": "3.11.7"
  }
 },
 "nbformat": 4,
 "nbformat_minor": 5
}
